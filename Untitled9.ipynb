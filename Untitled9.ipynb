{
  "nbformat": 4,
  "nbformat_minor": 0,
  "metadata": {
    "colab": {
      "provenance": [],
      "authorship_tag": "ABX9TyNDos94CbTrsA/KvoHwdTYq",
      "include_colab_link": true
    },
    "kernelspec": {
      "name": "python3",
      "display_name": "Python 3"
    },
    "language_info": {
      "name": "python"
    }
  },
  "cells": [
    {
      "cell_type": "markdown",
      "metadata": {
        "id": "view-in-github",
        "colab_type": "text"
      },
      "source": [
        "<a href=\"https://colab.research.google.com/github/jhjini/BP_05221111/blob/main/Untitled9.ipynb\" target=\"_parent\"><img src=\"https://colab.research.google.com/assets/colab-badge.svg\" alt=\"Open In Colab\"/></a>"
      ]
    },
    {
      "cell_type": "markdown",
      "source": [
        "1. 다음 프로그램의 출력은 무엇인가?"
      ],
      "metadata": {
        "id": "6dgZoR4jedlx"
      }
    },
    {
      "cell_type": "code",
      "source": [
        "age=20\n",
        "if age < 20:\n",
        "  print(\"20살 미만\")\n",
        "else:\n",
        "    print(\"20살 이상\")"
      ],
      "metadata": {
        "colab": {
          "base_uri": "https://localhost:8080/"
        },
        "id": "0cHfvF2_ffXI",
        "outputId": "dcbe6dab-0ab4-41d5-aaa1-ace440cf79fb"
      },
      "execution_count": 2,
      "outputs": [
        {
          "output_type": "stream",
          "name": "stdout",
          "text": [
            "20살 이상\n"
          ]
        }
      ]
    },
    {
      "cell_type": "markdown",
      "source": [
        "2. 1번 문제에서 age가 30이상이고 50이하인 것을 체크하려면 어떻게 하여야 하는가?(논리 연산자 and를 사용하여야 한다.)"
      ],
      "metadata": {
        "id": "gbNmWLQdf2-q"
      }
    },
    {
      "cell_type": "code",
      "source": [
        "age = 20\n",
        "if age >= 30 and age <= 50:\n",
        "   print(\"30살 이상이고 50살 이하\")"
      ],
      "metadata": {
        "id": "m3LvNFkUgDHZ"
      },
      "execution_count": 5,
      "outputs": []
    },
    {
      "cell_type": "markdown",
      "source": [
        "3. 사용자에게 현재 온도를 질문하고 온도가 25도 이상이면 반바지를 추천하고 25도 미만이면 긴바지를 추천하는 프로그램을 작성해보자."
      ],
      "metadata": {
        "id": "ua97fCtLgUc9"
      }
    },
    {
      "cell_type": "code",
      "source": [
        "temp=int(input(\"현재 온도를 입력하시오: \"))\n",
        "\n",
        "if temp>=25:\n",
        "  print(\"반바지를 입으세요\")\n",
        "else:\n",
        "  print(\"긴바지를 입으세요\")"
      ],
      "metadata": {
        "colab": {
          "base_uri": "https://localhost:8080/"
        },
        "id": "lL54Ugu6gfvl",
        "outputId": "5a11afd7-b0f0-4d02-801c-f82a5b88fd84"
      },
      "execution_count": 6,
      "outputs": [
        {
          "output_type": "stream",
          "name": "stdout",
          "text": [
            "현재 온도를 입력하시오: 10\n",
            "긴바지를 입으세요\n"
          ]
        }
      ]
    },
    {
      "cell_type": "markdown",
      "source": [
        "4. 학생의 시험 점수를 물어보고 시험 점수가 90점 이상이면 A, 80점 이상이면 B, 70점 이상이면 C, 60점 이상이면 D, 그외의 점수이면 F를 학점으로 주는 프로그램을 작성하라."
      ],
      "metadata": {
        "id": "8nVoQIfdg0Z4"
      }
    },
    {
      "cell_type": "code",
      "source": [
        "score = int(input(\"성적을 입력하시오: \"))\n",
        "\n",
        "if score >= 90:\n",
        "  print(\"A학점입니다.\")\n",
        "elif score >= 80:\n",
        "  print(\"B학점입니다.\")\n",
        "elif score >= 70:\n",
        "  print(\"C학점입니다.\")\n",
        "elif score >= 60:\n",
        "  print(\"D학점입니다.\")\n",
        "else :\n",
        "  print(\"F학점입니다.\")"
      ],
      "metadata": {
        "colab": {
          "base_uri": "https://localhost:8080/"
        },
        "id": "4TorNjSohMaj",
        "outputId": "bd051a9c-d1fa-4fd4-bb23-757a263f28d3"
      },
      "execution_count": 7,
      "outputs": [
        {
          "output_type": "stream",
          "name": "stdout",
          "text": [
            "성적을 입력하시오: 99\n",
            "A학점입니다.\n"
          ]
        }
      ]
    },
    {
      "cell_type": "markdown",
      "source": [
        "5. 난수를 사용하여 1부터 100 사이의 숫자를 사용하는 뻴셈 문제를 생성하고 사용자에게 물어본 후 사용자의 답변이 올바른지를 검사하는 프로그램을 작성하라.(1부터 100 사이의 난수는 다음과 같이 구할 수 있다 \n",
        "import random\n",
        "x=radom.randint(1, 100))"
      ],
      "metadata": {
        "id": "7oiStCeIh5T8"
      }
    },
    {
      "cell_type": "code",
      "source": [
        "import random\n",
        "x = random.randint(1, 100)\n",
        "y = random.randint(1, 100)\n",
        "\n",
        "ans = int(input(str(x)+\"-\"+str(y)+\"=\"))\n",
        "\n",
        "if ans == x-y:\n",
        "  print(\"맞았습니다.\")\n",
        "else:\n",
        "  print(\"틀렸습니다.\")"
      ],
      "metadata": {
        "colab": {
          "base_uri": "https://localhost:8080/"
        },
        "id": "iPo5MzT9iFXF",
        "outputId": "784ca437-ca48-4e8e-c096-9fc195d13abc"
      },
      "execution_count": 8,
      "outputs": [
        {
          "output_type": "stream",
          "name": "stdout",
          "text": [
            "69-82=-47\n",
            "틀렸습니다.\n"
          ]
        }
      ]
    },
    {
      "cell_type": "markdown",
      "source": [
        "6. 사용자로부터 정수를 받아서 이 정수가 2와 3으로 나누어떨어질 수 있는지를 출력하라.(2와 3으로 모두 나누어떨어지는 것은 n52==0 and n%3==0으로 검사할 수 있다.)"
      ],
      "metadata": {
        "id": "oh_9E7sYjAdB"
      }
    },
    {
      "cell_type": "code",
      "source": [
        "n = int(input(\"정수를 입력하시오: \"))\n",
        "\n",
        "if n%2==0 and n%3==0:\n",
        "  print(\"2와 3으로 나누어 떨어집니다.\")\n",
        "else :\n",
        "  print(\"2와 3으로 나누어 떨어지지 않습니다\")"
      ],
      "metadata": {
        "colab": {
          "base_uri": "https://localhost:8080/"
        },
        "id": "ERNxV4zFjSkE",
        "outputId": "f1f3f250-21de-4cd5-c720-2315d734b4f6"
      },
      "execution_count": 9,
      "outputs": [
        {
          "output_type": "stream",
          "name": "stdout",
          "text": [
            "정수를 입력하시오: 6\n",
            "2와 3으로 나누어 떨어집니다.\n"
          ]
        }
      ]
    },
    {
      "cell_type": "markdown",
      "source": [
        "7. 2자리 숫자로 이루어진 복권이 있다. 사용자가 가지고 있는 복권 번호가 2자리 모두 일치하면 100만원을 받는다. 2자리 중에서 하나만 일치하면 50만원을 받는다. 하나도 일치하지 않으면 상금은 없다. 복권 당첨 번호는 난수로 생성하고 사용자의 입력에 따라서 상금이 얼마인지를 출력하는 프로그램을 작성하라.(각 자리수는 // 연산자와 %연산자로 계산할 수 있다.)"
      ],
      "metadata": {
        "id": "J-V6KyrUjr_Y"
      }
    },
    {
      "cell_type": "code",
      "source": [
        "import random\n",
        "\n",
        "solution = random.randint(0, 99)\n",
        "\n",
        "user = int(input(\"복권번호를 입력하시요(0에서 99사이): \"))\n",
        "\n",
        "digit1 = solution // 10\n",
        "digit2 = solution % 10\n",
        "\n",
        "u_digit1 = user // 10\n",
        "digit2 = solution % 10\n",
        "\n",
        "print(\"당첨번호는\", solution, \"입니다.\")\n",
        "\n",
        "if(digit1 == u_digit1 and digit2 == u_digit2):\n",
        "  print(\"상금은 100만원입니다.\")\n",
        "elif(digit1 == u_digit1\n",
        "     or digit1 == u_digit2\n",
        "     or digit2 == u_digit1\n",
        "     or digit2 == u_digit2):\n",
        "  print(\"상금은 50만원입니다.\")\n",
        "else:\n",
        "  print(\"상금은 없습니다.\")"
      ],
      "metadata": {
        "colab": {
          "base_uri": "https://localhost:8080/",
          "height": 284
        },
        "id": "BiSp9UrEkHG5",
        "outputId": "04e80f0b-61e2-4214-d6d3-f8b9cb6b2217"
      },
      "execution_count": 11,
      "outputs": [
        {
          "output_type": "stream",
          "name": "stdout",
          "text": [
            "복권번호를 입력하시요(0에서 99사이): 67\n",
            "당첨번호는 19 입니다.\n"
          ]
        },
        {
          "output_type": "error",
          "ename": "NameError",
          "evalue": "ignored",
          "traceback": [
            "\u001b[0;31m---------------------------------------------------------------------------\u001b[0m",
            "\u001b[0;31mNameError\u001b[0m                                 Traceback (most recent call last)",
            "\u001b[0;32m<ipython-input-11-a00e8c6b3ba3>\u001b[0m in \u001b[0;36m<module>\u001b[0;34m\u001b[0m\n\u001b[1;32m     16\u001b[0m   \u001b[0mprint\u001b[0m\u001b[0;34m(\u001b[0m\u001b[0;34m\"상금은 100만원입니다.\"\u001b[0m\u001b[0;34m)\u001b[0m\u001b[0;34m\u001b[0m\u001b[0;34m\u001b[0m\u001b[0m\n\u001b[1;32m     17\u001b[0m elif(digit1 == u_digit1\n\u001b[0;32m---> 18\u001b[0;31m      \u001b[0;32mor\u001b[0m \u001b[0mdigit1\u001b[0m \u001b[0;34m==\u001b[0m \u001b[0mu_digit2\u001b[0m\u001b[0;34m\u001b[0m\u001b[0;34m\u001b[0m\u001b[0m\n\u001b[0m\u001b[1;32m     19\u001b[0m      \u001b[0;32mor\u001b[0m \u001b[0mdigit2\u001b[0m \u001b[0;34m==\u001b[0m \u001b[0mu_digit1\u001b[0m\u001b[0;34m\u001b[0m\u001b[0;34m\u001b[0m\u001b[0m\n\u001b[1;32m     20\u001b[0m      or digit2 == u_digit2):\n",
            "\u001b[0;31mNameError\u001b[0m: name 'u_digit2' is not defined"
          ]
        }
      ]
    }
  ]
}